{
 "cells": [
  {
   "cell_type": "markdown",
   "metadata": {},
   "source": [
    "# Guía para primer entregable del reto: Diagnóstico de la Malaria\n",
    "\n",
    "Clase: F1013B Modelación Computacional de Sistemas Eléctricos\n",
    "\n",
    "Autor: Edoardo Bucheli\n",
    "\n",
    "Profesor de Cátedra, Tec de Monterrey Campus Santa Fe"
   ]
  },
  {
   "cell_type": "markdown",
   "metadata": {},
   "source": [
    "En este primer paso, debes generar la simulación de un campo eléctrico debido a dos cargas puntuales. Este documento te ayudará a definir los pasos necesarios para crear tu implementación.\n",
    "\n",
    "Empecemos por importar las librerías de Python necesarias. Numpy es un paquete para cómputo científico en Python y Matplotlib sirve para crear visualizaciones."
   ]
  },
  {
   "cell_type": "code",
   "execution_count": null,
   "metadata": {},
   "outputs": [],
   "source": [
    "import numpy as np\n",
    "import matplotlib.pyplot as plt\n",
    "\n",
    "plt.style.use('ggplot')"
   ]
  },
  {
   "cell_type": "markdown",
   "metadata": {},
   "source": [
    "Además de importar las librerías, usamos el comando `plt.style.use()` para dar un mejor aspecto a nuestros gráficos, puedes encontrar todos los estilos incluidos en matplotlib [aquí](https://matplotlib.org/3.1.1/gallery/style_sheets/style_sheets_reference.html)."
   ]
  },
  {
   "cell_type": "markdown",
   "metadata": {},
   "source": [
    "### Paso 1: Crear el campo eléctrico para una sola carga en el origen"
   ]
  },
  {
   "cell_type": "markdown",
   "metadata": {},
   "source": [
    "Lo primero que necesitamos hacer es definir el espacio donde queremos graficar el campo eléctrico. Para ellos podemos usar la función `np.linspace()` que genera un arreglo que asciende de manera lineal con principio, fin y tamaño del arreglo definidos.\n",
    "\n",
    "Si quieres saber más sobre `np.linspace()` puedes consultar [aquí](https://docs.scipy.org/doc/numpy/reference/generated/numpy.linspace.html)\n",
    "\n",
    "Ejemplo:\n",
    "El siguiente bloque crea un arreglo que va del 0 al 10 en 100 pasos"
   ]
  },
  {
   "cell_type": "code",
   "execution_count": null,
   "metadata": {},
   "outputs": [],
   "source": [
    "ej_1 = np.linspace(0,10,100)\n",
    "print(ej_1)\n",
    "plt.plot(ej_1)"
   ]
  },
  {
   "cell_type": "markdown",
   "metadata": {},
   "source": [
    "Ahora crea una variable `x` y una variable `y` con `linspace()` para el rango en el que deseas hacer tu campo."
   ]
  },
  {
   "cell_type": "code",
   "execution_count": null,
   "metadata": {},
   "outputs": [],
   "source": [
    "# El tamaño de la cuadrícula\n",
    "N = 9\n",
    "#El rango\n",
    "grid_min = -2\n",
    "grid_max = 2\n",
    "\n",
    "# Ahora crea tus arreglos, te sugerimos usar los valores grid_min y grid_max para el rango\n",
    "# Y N para el tamaño del arreglo pero también te invitamos a experimentar con tamaños distintos\n",
    "# una vez que haya funcionado tu código.\n",
    "x = #tu código aquí\n",
    "y = #tu código aquí"
   ]
  },
  {
   "cell_type": "markdown",
   "metadata": {},
   "source": [
    "Ya que tenemos los rangos de `x` y `y` necesitamos crear un *grid* o cuadrícula, para ello podemos usar la función `np.meshgrid()` que toma como valores de entrada rangos como `x` y `y` y regresa dos matrices `X` y `Y` que combinadas nos dan cada punto del campo eléctrico.\n",
    "\n",
    "Si quieres saber más sobre `np.meshgrid()` puedes consultar [aquí](https://docs.scipy.org/doc/numpy/reference/generated/numpy.meshgrid.html)\n",
    "\n",
    "Podemos también pensar en `X` y `Y` como matrices que para cada punto en la cuadrícula nos marcan la dirección (en $x$ o $y$ correspondientemente) de la carga al punto a evaluar en el campo eléctrico."
   ]
  },
  {
   "cell_type": "code",
   "execution_count": null,
   "metadata": {},
   "outputs": [],
   "source": [
    "X,Y = # tu código aquí"
   ]
  },
  {
   "cell_type": "markdown",
   "metadata": {},
   "source": [
    "Recordemos que la ecuación para obtener el valor de un campo eléctrico a una distancia $r$ de la carga es:\n",
    "\n",
    "$\\mathbf{\\vec{E}} = k_e\\frac{q}{r^2}\\vec{r}$\n",
    "\n",
    "Donde $\\mathbf{\\vec{E}}$ es el campo eléctrico, $k_e$ es la constante de Coulomb, $q$ es la carga que afecta al campo eléctrico y $\\vec{r}$ es un vector unitario que apunta a la dirección entre la carga y el punto en el campo eléctrico\n",
    " \n",
    "Por lo tanto necesitamos obtener el valor de la constante $k_e$, la cual podemos obtener con la siguiente expresión,\n",
    "\n",
    "$k_e = \\frac{1}{4\\pi\\epsilon_0}$\n",
    "\n",
    "donde\n",
    "\n",
    "$\\epsilon_0 = 8.8542 \\times 10^{-12}$"
   ]
  },
  {
   "cell_type": "code",
   "execution_count": null,
   "metadata": {},
   "outputs": [],
   "source": [
    "eps_0 = # tu código aquí\n",
    "k_e = # tu código aquí\n",
    "\n",
    "# definamos también un valor para la carga, \n",
    "# por el momento podemos definirlo como 20e-6 \n",
    "# pero puedes cambiarlo después para experimentar\n",
    "\n",
    "q = 20e-6"
   ]
  },
  {
   "cell_type": "markdown",
   "metadata": {},
   "source": [
    "Ya que descomponemos un campo vectorial en las componentes `x` y `y` obtenemos las siguientes ecuaciones,\n",
    "\n",
    "$\\vec{E}_x = k_e \\frac{q}{r^2} \\cos{\\theta}$\n",
    "\n",
    "$\\vec{E}_y = k_e \\frac{q}{r^2} \\sin{\\theta}$\n",
    "\n",
    "Donde $\\theta$ es el ángulo de la línea entre la carga y el punto a medir y $r^2 = x^2+y^2$.\n",
    "\n",
    "Lo primero que necesitamos es, para cada punto en la cuadrícula, encontrar el ángulo que se genera entre la línea que va de la carga al punto de la cuadrícula y el eje $x$."
   ]
  },
  {
   "cell_type": "code",
   "execution_count": null,
   "metadata": {},
   "outputs": [],
   "source": [
    "angles = # tu código aquí"
   ]
  },
  {
   "cell_type": "markdown",
   "metadata": {},
   "source": [
    "Ahora que tienes los ángulos, ya puedes calcular las componentes para cada punto en la cuadrícula del campo eléctrico"
   ]
  },
  {
   "cell_type": "code",
   "execution_count": null,
   "metadata": {},
   "outputs": [],
   "source": [
    "Ex = # Tu código aquí\n",
    "Ey = # Tu código aquí"
   ]
  },
  {
   "cell_type": "markdown",
   "metadata": {},
   "source": [
    "Prueba tus resultados graficando con matplolib, puedes usar la función quiver para escribir las flechas de un campo vectorial."
   ]
  },
  {
   "cell_type": "code",
   "execution_count": null,
   "metadata": {},
   "outputs": [],
   "source": [
    "# Creamos una figura y eje con plt.subplots()\n",
    "fig, ax = plt.subplots(figsize = (7,7))\n",
    "\n",
    "# Agregamos al eje (ax) las flechas de los vectores con plt.quiver()\n",
    "ax.quiver(X,Y,Ex,Ey)\n",
    "# Dibujamos en el eje (ax) la carga puntual usando plt.scatter()\n",
    "ax.scatter(0,0,c='red',s=1000)\n",
    "#Configuramos las dimensiones del eje y el aspecto\n",
    "ax.axis([-2,2,-2,2])\n",
    "ax.set_aspect('equal','box')"
   ]
  },
  {
   "cell_type": "markdown",
   "metadata": {},
   "source": [
    "Ya estamos cerca pero probablemente los tamaños de tus líneas son muy disparejos, podemos ver que la intensidad de un campo eléctrico varía mucho con la distancia, para obtener un gráfico más fácil de ver grafiquemos mejor los vectores unitarios correspondientes a cada vector. \n",
    "\n",
    "Recuerda que para hacer eso, necesitamos dividir cada vector entre su magnitud, crea una matriz `mags` que tenga la magnitud de cada vector correspondiente en la cuadrícula."
   ]
  },
  {
   "cell_type": "code",
   "execution_count": null,
   "metadata": {},
   "outputs": [],
   "source": [
    "mags = # tu código aquí"
   ]
  },
  {
   "cell_type": "markdown",
   "metadata": {},
   "source": [
    "Ahora actualiza los valores de `Ex` y `Ey` para que respresenten los vectores unitarios y luego grafica"
   ]
  },
  {
   "cell_type": "code",
   "execution_count": null,
   "metadata": {},
   "outputs": [],
   "source": [
    "Ex_unit = # Tu código aquí\n",
    "Ey_unit = # Tu código aquí\n",
    "\n",
    "# Creamos una figura y eje con plt.subplots()\n",
    "fig, ax = plt.subplots(figsize = (7,7))\n",
    "\n",
    "# Agregamos al eje las flechas de los vectores con plt.quiver()\n",
    "ax.quiver(X,Y,Ex_unit,Ey_unit)\n",
    "# Dibujamos la carga puntual usando plt.scatter()\n",
    "ax.scatter(0,0,c='red',s=1000)\n",
    "#Configuramos las dimensiones del eje y el aspecto\n",
    "ax.axis([-2,2,-2,2])\n",
    "ax.set_aspect('equal','box')"
   ]
  },
  {
   "cell_type": "markdown",
   "metadata": {},
   "source": [
    "### Paso 2: Cambiando la posición de la carga"
   ]
  },
  {
   "cell_type": "markdown",
   "metadata": {},
   "source": [
    "Ahora hagamos lo mismo pero con dos o más cargas. Algo que tenemos que considerar es cómo cambiar los ángulos y distancias dependiendo de la posición de la carga (hace rato fue fácil porque siempre lo hicimos en torno al origen)."
   ]
  },
  {
   "cell_type": "markdown",
   "metadata": {},
   "source": [
    "Definamos nuevamente las constantes `N` y `grid_min` y `grid_max`. Los haremos más grandes ahora, como la vez pasada, te sugerimos valores pero cuando logres obtener el resultado, juega con los valores para ver qué sucede."
   ]
  },
  {
   "cell_type": "code",
   "execution_count": null,
   "metadata": {},
   "outputs": [],
   "source": [
    "N = 21\n",
    "grid_min = -5\n",
    "grid_max = 5"
   ]
  },
  {
   "cell_type": "markdown",
   "metadata": {},
   "source": [
    "Y como antes, define primero los arreglos de `x` y `y` y crea la cuadrícula."
   ]
  },
  {
   "cell_type": "code",
   "execution_count": null,
   "metadata": {},
   "outputs": [],
   "source": [
    "x = #tu código aquí\n",
    "y = # tu código aquí\n",
    "\n",
    "X,Y = # tu código aquí"
   ]
  },
  {
   "cell_type": "markdown",
   "metadata": {},
   "source": [
    "Aunque ya deben de estar guardados los valores de las constantes, asegurémonos que sea así."
   ]
  },
  {
   "cell_type": "code",
   "execution_count": null,
   "metadata": {},
   "outputs": [],
   "source": [
    "eps_0 = # tu código aquí\n",
    "k_e = # tu código aquí"
   ]
  },
  {
   "cell_type": "markdown",
   "metadata": {},
   "source": [
    "Ahora, además de definir el valor de `q` definimos su coordenada."
   ]
  },
  {
   "cell_type": "code",
   "execution_count": null,
   "metadata": {},
   "outputs": [],
   "source": [
    "q = 20e-6\n",
    "q_loc = [-2,0]"
   ]
  },
  {
   "cell_type": "markdown",
   "metadata": {},
   "source": [
    "Recuerda que podemos también pensar en `X` y `Y` como matrices que para cada punto en la cuadrícula nos marcan la dirección (en $x$ o $y$ correspondientemente) de la carga al punto a evaluar en el campo eléctrico. Por lo que necesitamos actualizar los valores de `X` y `Y` basados en los valores de `q_loc`. \n",
    "\n",
    "Guardemos el resultado en nuevas variables `X_new` y `Y_new` para no perder sus valores originales con respecto al origen, ya que los necesitamos para escribir las flechas."
   ]
  },
  {
   "cell_type": "code",
   "execution_count": null,
   "metadata": {},
   "outputs": [],
   "source": [
    "X_new = # tu código aquí\n",
    "Y_new = # tu código aquí"
   ]
  },
  {
   "cell_type": "markdown",
   "metadata": {},
   "source": [
    "Con los valores de `X_new` y `Y_new` actualizados, podemos encontrar los ángulos de la misma manera que el paso anterior."
   ]
  },
  {
   "cell_type": "code",
   "execution_count": null,
   "metadata": {},
   "outputs": [],
   "source": [
    "angles = # tu código aquí"
   ]
  },
  {
   "cell_type": "markdown",
   "metadata": {},
   "source": [
    "Ahora puedes volver a calcular `Ex` y `Ey` con los nuevos valores de `X_new`, `Y_new` y `angles`. Y de igual manera calcula la matriz `mags` para graficar vectores unitarios."
   ]
  },
  {
   "cell_type": "code",
   "execution_count": null,
   "metadata": {},
   "outputs": [],
   "source": [
    "Ex = # tu código aquí\n",
    "Ey = # tu código aquí\n",
    "\n",
    "mags = # tu código aquí\n",
    "\n",
    "Ex_unit = #tu código aquí\n",
    "Ey_unit = #tu código aquí"
   ]
  },
  {
   "cell_type": "code",
   "execution_count": null,
   "metadata": {},
   "outputs": [],
   "source": [
    "# Creamos una figura y eje con plt.subplots()\n",
    "fig, ax = plt.subplots(figsize = (7,7))\n",
    "\n",
    "# Agregamos al eje las flechas de los vectores con plt.quiver()\n",
    "ax.quiver(X,Y,Ex_unit,Ey_unit)\n",
    "# Dibujamos la carga puntual usando plt.scatter()\n",
    "ax.scatter(q_loc[0],q_loc[1],c='red',s=1000)\n",
    "#Configuramos las dimensiones del eje y el aspecto\n",
    "ax.axis([grid_min,grid_max,grid_min,grid_max])\n",
    "ax.set_aspect('equal','box')"
   ]
  },
  {
   "cell_type": "markdown",
   "metadata": {},
   "source": [
    "### Paso 3: Agregando dos o más cargas al campo."
   ]
  },
  {
   "cell_type": "markdown",
   "metadata": {},
   "source": [
    "Puedes repetir el código del paso 2 para agregar cuantas cargas quieras.\n",
    "\n",
    "Una vez que tienes el campo eléctrico que genera una cierta carga, puedes sumarlo con el de otra y así obtienes el campo eléctrico de las dos cargas.\n",
    "\n",
    "Es decir, si tenemos las componentes $\\vec{E}x_1$ y $\\vec{E}y_1$ de un campo eléctrico $\\vec{E_1}$ producido por la carga $q_1$ y las componentes $\\vec{E}x_2$ y $\\vec{E}y_2$ de un campo eléctrico $\\vec{E_2}$ producido por la carga $q_2$. Entonces las componentes $\\vec{E}x_{12}$ y $\\vec{E}y_{12}$ del campo eléctrico $\\vec{E_{12}}$ están dadas por,\n",
    "\n",
    "$\\vec{E}x_{12} = \\vec{E}x_1 + \\vec{E}x_2$\n",
    "\n",
    "$\\vec{E}y_{12} = \\vec{E}y_1 + \\vec{E}y_2$\n",
    "\n",
    "OJO: obten las componentes del nuevo campo antes de crear vectores unitarios para la visualización."
   ]
  },
  {
   "cell_type": "markdown",
   "metadata": {},
   "source": [
    "Consideraciones:\n",
    "\n",
    "1. ¿Qué pasa si cambiamos los valores de las cargas?, (¿qué pasa si son positivas o negativas?)\n",
    "1. Para tu visualización es buena idea hacer que las cargas sean rojas si son positivas o negras si son negativas.\n",
    "1. Asegúrate que puedas poner tus cargas en muchas coordenadas distintas.\n",
    "\n",
    "Retos adicionales:\n",
    "\n",
    "1. Puedes repetir el código del paso 2 por cada carga que quieras agregar, pero ¿podrás hacerlo de tal manera que un ciclo repita el código por ti?\n",
    "1. Para que tu código sea más limpio podrías definir una función que calcule las componentes `Ex` y `Ey`\n",
    "1. Si lograste optimizar tu código talvez puedes hacerlo para que sea fácil elegir más de dos cargas y graficarlas.\n",
    "1. ¿Puedes implementarlo como una aplicación interactiva? Sugerencia: [Streamlit](https://www.streamlit.io/)"
   ]
  },
  {
   "cell_type": "code",
   "execution_count": null,
   "metadata": {},
   "outputs": [],
   "source": [
    "# Empieza aquí tu solución"
   ]
  }
 ],
 "metadata": {
  "kernelspec": {
   "display_name": "Python 3",
   "language": "python",
   "name": "python3"
  },
  "language_info": {
   "codemirror_mode": {
    "name": "ipython",
    "version": 3
   },
   "file_extension": ".py",
   "mimetype": "text/x-python",
   "name": "python",
   "nbconvert_exporter": "python",
   "pygments_lexer": "ipython3",
   "version": "3.6.7"
  }
 },
 "nbformat": 4,
 "nbformat_minor": 2
}
